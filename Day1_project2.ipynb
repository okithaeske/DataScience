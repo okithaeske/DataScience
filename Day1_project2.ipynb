{
 "cells": [
  {
   "cell_type": "code",
   "execution_count": 4,
   "id": "fb838dce-08fd-4e9b-9d51-81ba4ba678f7",
   "metadata": {},
   "outputs": [
    {
     "name": "stdout",
     "output_type": "stream",
     "text": [
      "Requirement already satisfied: numpy in d:\\apps\\anaconda\\envs\\day1\\lib\\site-packages (2.1.1)\n",
      "Note: you may need to restart the kernel to use updated packages.\n"
     ]
    }
   ],
   "source": [
    "pip install numpy\n"
   ]
  },
  {
   "cell_type": "code",
   "execution_count": 2,
   "id": "1c426ee7",
   "metadata": {},
   "outputs": [
    {
     "name": "stdout",
     "output_type": "stream",
     "text": [
      "Hello world\n"
     ]
    }
   ],
   "source": [
    "print(\"Hello world\")"
   ]
  },
  {
   "cell_type": "code",
   "execution_count": 5,
   "id": "2602f449",
   "metadata": {},
   "outputs": [
    {
     "name": "stdout",
     "output_type": "stream",
     "text": [
      "Collecting pandas\n",
      "  Downloading pandas-2.2.3-cp312-cp312-win_amd64.whl.metadata (19 kB)\n",
      "Requirement already satisfied: numpy>=1.26.0 in d:\\apps\\anaconda\\envs\\day1\\lib\\site-packages (from pandas) (2.1.1)\n",
      "Requirement already satisfied: python-dateutil>=2.8.2 in d:\\apps\\anaconda\\envs\\day1\\lib\\site-packages (from pandas) (2.9.0.post0)\n",
      "Requirement already satisfied: pytz>=2020.1 in d:\\apps\\anaconda\\envs\\day1\\lib\\site-packages (from pandas) (2024.1)\n",
      "Collecting tzdata>=2022.7 (from pandas)\n",
      "  Downloading tzdata-2024.2-py2.py3-none-any.whl.metadata (1.4 kB)\n",
      "Requirement already satisfied: six>=1.5 in d:\\apps\\anaconda\\envs\\day1\\lib\\site-packages (from python-dateutil>=2.8.2->pandas) (1.16.0)\n",
      "Downloading pandas-2.2.3-cp312-cp312-win_amd64.whl (11.5 MB)\n",
      "   ---------------------------------------- 0.0/11.5 MB ? eta -:--:--\n",
      "   ---------------------------------------- 0.0/11.5 MB ? eta -:--:--\n",
      "    --------------------------------------- 0.3/11.5 MB ? eta -:--:--\n",
      "   - -------------------------------------- 0.5/11.5 MB 985.5 kB/s eta 0:00:12\n",
      "   -- ------------------------------------- 0.8/11.5 MB 1.0 MB/s eta 0:00:11\n",
      "   -- ------------------------------------- 0.8/11.5 MB 1.0 MB/s eta 0:00:11\n",
      "   ---- ----------------------------------- 1.3/11.5 MB 1.1 MB/s eta 0:00:09\n",
      "   ----- ---------------------------------- 1.6/11.5 MB 1.2 MB/s eta 0:00:09\n",
      "   ------ --------------------------------- 1.8/11.5 MB 1.2 MB/s eta 0:00:08\n",
      "   ------- -------------------------------- 2.1/11.5 MB 1.3 MB/s eta 0:00:08\n",
      "   --------- ------------------------------ 2.6/11.5 MB 1.3 MB/s eta 0:00:07\n",
      "   ---------- ----------------------------- 2.9/11.5 MB 1.4 MB/s eta 0:00:07\n",
      "   ----------- ---------------------------- 3.4/11.5 MB 1.4 MB/s eta 0:00:06\n",
      "   ------------ --------------------------- 3.7/11.5 MB 1.5 MB/s eta 0:00:06\n",
      "   -------------- ------------------------- 4.2/11.5 MB 1.5 MB/s eta 0:00:05\n",
      "   ---------------- ----------------------- 4.7/11.5 MB 1.6 MB/s eta 0:00:05\n",
      "   ------------------ --------------------- 5.2/11.5 MB 1.7 MB/s eta 0:00:04\n",
      "   -------------------- ------------------- 5.8/11.5 MB 1.7 MB/s eta 0:00:04\n",
      "   -------------------- ------------------- 6.0/11.5 MB 1.7 MB/s eta 0:00:04\n",
      "   ---------------------- ----------------- 6.6/11.5 MB 1.7 MB/s eta 0:00:03\n",
      "   ------------------------ --------------- 7.1/11.5 MB 1.8 MB/s eta 0:00:03\n",
      "   ------------------------- -------------- 7.3/11.5 MB 1.8 MB/s eta 0:00:03\n",
      "   --------------------------- ------------ 7.9/11.5 MB 1.8 MB/s eta 0:00:03\n",
      "   ----------------------------- ---------- 8.4/11.5 MB 1.8 MB/s eta 0:00:02\n",
      "   ------------------------------ --------- 8.9/11.5 MB 1.8 MB/s eta 0:00:02\n",
      "   -------------------------------- ------- 9.4/11.5 MB 1.9 MB/s eta 0:00:02\n",
      "   ---------------------------------- ----- 10.0/11.5 MB 1.9 MB/s eta 0:00:01\n",
      "   ----------------------------------- ---- 10.2/11.5 MB 1.9 MB/s eta 0:00:01\n",
      "   ------------------------------------- -- 10.7/11.5 MB 1.9 MB/s eta 0:00:01\n",
      "   -------------------------------------- - 11.0/11.5 MB 1.9 MB/s eta 0:00:01\n",
      "   ---------------------------------------- 11.5/11.5 MB 1.9 MB/s eta 0:00:00\n",
      "Downloading tzdata-2024.2-py2.py3-none-any.whl (346 kB)\n",
      "Installing collected packages: tzdata, pandas\n",
      "Successfully installed pandas-2.2.3 tzdata-2024.2\n",
      "Note: you may need to restart the kernel to use updated packages.\n"
     ]
    }
   ],
   "source": [
    "pip install pandas\n"
   ]
  },
  {
   "cell_type": "code",
   "execution_count": 1,
   "id": "bc7ba25e",
   "metadata": {},
   "outputs": [
    {
     "name": "stdout",
     "output_type": "stream",
     "text": [
      "     PassengerId  Survived  Pclass  \\\n",
      "0              1         0       3   \n",
      "1              2         1       1   \n",
      "2              3         1       3   \n",
      "3              4         1       1   \n",
      "4              5         0       3   \n",
      "..           ...       ...     ...   \n",
      "886          887         0       2   \n",
      "887          888         1       1   \n",
      "888          889         0       3   \n",
      "889          890         1       1   \n",
      "890          891         0       3   \n",
      "\n",
      "                                                  Name     Sex   Age  SibSp  \\\n",
      "0                              Braund  Mr. Owen Harris    male  22.0      1   \n",
      "1    Cumings  Mrs. John Bradley (Florence Briggs Th...  female  38.0      1   \n",
      "2                               Heikkinen  Miss. Laina  female  26.0      0   \n",
      "3         Futrelle  Mrs. Jacques Heath (Lily May Peel)  female  35.0      1   \n",
      "4                             Allen  Mr. William Henry    male  35.0      0   \n",
      "..                                                 ...     ...   ...    ...   \n",
      "886                              Montvila  Rev. Juozas    male  27.0      0   \n",
      "887                       Graham  Miss. Margaret Edith  female  19.0      0   \n",
      "888           Johnston  Miss. Catherine Helen \"Carrie\"  female   NaN      1   \n",
      "889                              Behr  Mr. Karl Howell    male  26.0      0   \n",
      "890                                Dooley  Mr. Patrick    male  32.0      0   \n",
      "\n",
      "     Parch            Ticket     Fare Cabin Embarked  \n",
      "0        0         A/5 21171   7.2500   NaN        S  \n",
      "1        0          PC 17599  71.2833   C85        C  \n",
      "2        0  STON/O2. 3101282   7.9250   NaN        S  \n",
      "3        0            113803  53.1000  C123        S  \n",
      "4        0            373450   8.0500   NaN        S  \n",
      "..     ...               ...      ...   ...      ...  \n",
      "886      0            211536  13.0000   NaN        S  \n",
      "887      0            112053  30.0000   B42        S  \n",
      "888      2        W./C. 6607  23.4500   NaN        S  \n",
      "889      0            111369  30.0000  C148        C  \n",
      "890      0            370376   7.7500   NaN        Q  \n",
      "\n",
      "[891 rows x 12 columns]\n"
     ]
    }
   ],
   "source": [
    "import pandas as pd \n",
    "\n",
    "titanic_details = pd.read_csv(r\"D:\\Downloads\\titanic.csv\")\n",
    "print(titanic_details)"
   ]
  },
  {
   "cell_type": "code",
   "execution_count": null,
   "id": "d2309b23",
   "metadata": {},
   "outputs": [
    {
     "name": "stdout",
     "output_type": "stream",
     "text": [
      "{'Name': 'Braund  Mr. Owen Harris', 'Sex': 'male', 'Age': 22.0, 'Cabin': nan}\n",
      "{'Name': 'Cumings  Mrs. John Bradley (Florence Briggs Thayer)', 'Sex': 'female', 'Age': 38.0, 'Cabin': 'C85'}\n",
      "{'Name': 'Heikkinen  Miss. Laina', 'Sex': 'female', 'Age': 26.0, 'Cabin': nan}\n",
      "{'Name': 'Futrelle  Mrs. Jacques Heath (Lily May Peel)', 'Sex': 'female', 'Age': 35.0, 'Cabin': 'C123'}\n",
      "{'Name': 'Allen  Mr. William Henry', 'Sex': 'male', 'Age': 35.0, 'Cabin': nan}\n",
      "{'Name': 'Moran  Mr. James', 'Sex': 'male', 'Age': nan, 'Cabin': nan}\n",
      "{'Name': 'McCarthy  Mr. Timothy J', 'Sex': 'male', 'Age': 54.0, 'Cabin': 'E46'}\n",
      "{'Name': 'Palsson  Master. Gosta Leonard', 'Sex': 'male', 'Age': 2.0, 'Cabin': nan}\n",
      "{'Name': 'Johnson  Mrs. Oscar W (Elisabeth Vilhelmina Berg)', 'Sex': 'female', 'Age': 27.0, 'Cabin': nan}\n",
      "{'Name': 'Nasser  Mrs. Nicholas (Adele Achem)', 'Sex': 'female', 'Age': 14.0, 'Cabin': nan}\n"
     ]
    }
   ],
   "source": [
    "# GET PUT THE INFO INTO A DICTIONARY\n",
    "\n",
    "passenger_details = titanic_details[['Name','Sex','Age','Cabin']].to_dict(orient='records')\n",
    "\n",
    "for passenger in passenger_details[:10]:\n",
    "    print(passenger)\n"
   ]
  },
  {
   "cell_type": "code",
   "execution_count": 16,
   "id": "6e7a278d",
   "metadata": {},
   "outputs": [
    {
     "name": "stdout",
     "output_type": "stream",
     "text": [
      "Total number of passengers: 891\n"
     ]
    }
   ],
   "source": [
    "#Total number of passengers\n",
    "\n",
    "Total_number_of_passengers = len(titanic_details)\n",
    "print(\"Total number of passengers:\",Total_number_of_passengers)"
   ]
  },
  {
   "cell_type": "code",
   "execution_count": 6,
   "id": "85bad310",
   "metadata": {},
   "outputs": [
    {
     "name": "stdout",
     "output_type": "stream",
     "text": [
      "Average age of a passenger: 29.7\n"
     ]
    }
   ],
   "source": [
    "# Average age of the passengers onboard the Titanic\n",
    "\n",
    "\n",
    "Average_age_of_passenger = round(titanic_details['Age'].mean(),2)\n",
    "print(\"Average age of a passenger:\",Average_age_of_passenger)"
   ]
  },
  {
   "cell_type": "code",
   "execution_count": 8,
   "id": "9a85633d",
   "metadata": {},
   "outputs": [
    {
     "name": "stdout",
     "output_type": "stream",
     "text": [
      "Personals who paid more than $300 ['Ward  Miss. Anna', 'Cardeza  Mr. Thomas Drake Martinez', 'Lesurer  Mr. Gustave J']\n"
     ]
    }
   ],
   "source": [
    "# Passengers who paid more than $300\n",
    "\n",
    "highpaid = titanic_details[titanic_details['Fare']>300]['Name'].tolist()\n",
    "print(\"Personals who paid more than $300\",highpaid)"
   ]
  },
  {
   "cell_type": "code",
   "execution_count": 11,
   "id": "33dcefdb",
   "metadata": {},
   "outputs": [
    {
     "name": "stdout",
     "output_type": "stream",
     "text": [
      "Male survivors in first class: 45\n"
     ]
    }
   ],
   "source": [
    "#Count the number of male passengers who survived in the first-class cabin.\\\n",
    "\n",
    "Males_WHo_Survived = titanic_details[(titanic_details['Sex']=='male')&(titanic_details['Survived']==1)&(titanic_details['Pclass']==1)].shape[0]\n",
    "print(\"Male survivors in first class:\",Males_WHo_Survived)\n"
   ]
  },
  {
   "cell_type": "code",
   "execution_count": null,
   "id": "64575664",
   "metadata": {},
   "outputs": [
    {
     "name": "stdout",
     "output_type": "stream",
     "text": [
      "60\n",
      " Lower than the number!\n",
      "Congratulations! After 2 attempts you found it\n"
     ]
    }
   ],
   "source": [
    "# Number guessing\n",
    " \n",
    "import random\n",
    "\n",
    "Guess = random.randint(0,100)\n",
    "Guess_attempt = 0\n",
    "\n",
    "while True:\n",
    "    Geussing = int(input(\"Welcome to Guessing game\\nYou have 3 attempts\\nGuess the Number:\"))\n",
    "    Guess_attempt += 1\n",
    "    if (Geussing == Guess):\n",
    "        print(f\"Congratulations! After {Guess_attempt} attempts you found it\")\n",
    "        break\n",
    "    elif (Geussing > Guess):\n",
    "        print(\"Higher than the number!\")\n",
    "    else:\n",
    "        print(\" Lower than the number!\")\n",
    "\n",
    "    \n",
    "\n",
    "\n",
    "\n"
   ]
  },
  {
   "cell_type": "code",
   "execution_count": null,
   "id": "c48ffbbf",
   "metadata": {},
   "outputs": [],
   "source": []
  }
 ],
 "metadata": {
  "kernelspec": {
   "display_name": "Day1",
   "language": "python",
   "name": "python3"
  },
  "language_info": {
   "codemirror_mode": {
    "name": "ipython",
    "version": 3
   },
   "file_extension": ".py",
   "mimetype": "text/x-python",
   "name": "python",
   "nbconvert_exporter": "python",
   "pygments_lexer": "ipython3",
   "version": "3.12.7"
  }
 },
 "nbformat": 4,
 "nbformat_minor": 5
}
