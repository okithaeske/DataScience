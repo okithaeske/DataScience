{
 "cells": [
  {
   "cell_type": "code",
   "execution_count": 1,
   "id": "fb838dce-08fd-4e9b-9d51-81ba4ba678f7",
   "metadata": {},
   "outputs": [
    {
     "name": "stdout",
     "output_type": "stream",
     "text": [
      "Requirement already satisfied: pandas in d:\\apps\\anaconda\\envs\\day1\\lib\\site-packages (2.2.3)\n",
      "Requirement already satisfied: numpy>=1.26.0 in d:\\apps\\anaconda\\envs\\day1\\lib\\site-packages (from pandas) (2.1.1)\n",
      "Requirement already satisfied: python-dateutil>=2.8.2 in d:\\apps\\anaconda\\envs\\day1\\lib\\site-packages (from pandas) (2.9.0.post0)\n",
      "Requirement already satisfied: pytz>=2020.1 in d:\\apps\\anaconda\\envs\\day1\\lib\\site-packages (from pandas) (2024.1)\n",
      "Requirement already satisfied: tzdata>=2022.7 in d:\\apps\\anaconda\\envs\\day1\\lib\\site-packages (from pandas) (2024.2)\n",
      "Requirement already satisfied: six>=1.5 in d:\\apps\\anaconda\\envs\\day1\\lib\\site-packages (from python-dateutil>=2.8.2->pandas) (1.16.0)\n",
      "Note: you may need to restart the kernel to use updated packages.\n"
     ]
    }
   ],
   "source": [
    "pip install pandas\n"
   ]
  },
  {
   "cell_type": "code",
   "execution_count": null,
   "id": "34f0736a",
   "metadata": {},
   "outputs": [
    {
     "name": "stdout",
     "output_type": "stream",
     "text": [
      "           Country                               Region  Population  \\\n",
      "0     Afghanistan         ASIA (EX. NEAR EAST)             31056997   \n",
      "1         Albania                        EASTERN EUROPE     3581655   \n",
      "2         Algeria   NORTHERN AFRICA                        32930091   \n",
      "3  American Samoa   OCEANIA                                   57794   \n",
      "4         Andorra   WESTERN EUROPE                            71201   \n",
      "\n",
      "   Area (sq. mi.) Pop. Density (per sq. mi.) Coastline (coast/area ratio)  \\\n",
      "0          647500                       48,0                         0,00   \n",
      "1           28748                      124,6                         1,26   \n",
      "2         2381740                       13,8                         0,04   \n",
      "3             199                      290,4                        58,29   \n",
      "4             468                      152,1                         0,00   \n",
      "\n",
      "  Net migration Infant mortality (per 1000 births)  GDP ($ per capita)  \\\n",
      "0         23,06                             163,07               700.0   \n",
      "1         -4,93                              21,52              4500.0   \n",
      "2         -0,39                                 31              6000.0   \n",
      "3        -20,71                               9,27              8000.0   \n",
      "4           6,6                               4,05             19000.0   \n",
      "\n",
      "  Literacy (%) Phones (per 1000) Arable (%) Crops (%) Other (%) Climate  \\\n",
      "0         36,0               3,2      12,13      0,22     87,65       1   \n",
      "1         86,5              71,2      21,09      4,42     74,49       3   \n",
      "2         70,0              78,1       3,22      0,25     96,53       1   \n",
      "3         97,0             259,5         10        15        75       2   \n",
      "4        100,0             497,2       2,22         0     97,78       3   \n",
      "\n",
      "  Birthrate Deathrate Agriculture Industry Service  \n",
      "0      46,6     20,34        0,38     0,24    0,38  \n",
      "1     15,11      5,22       0,232    0,188   0,579  \n",
      "2     17,14      4,61       0,101      0,6   0,298  \n",
      "3     22,46      3,27         NaN      NaN     NaN  \n",
      "4      8,71      6,25         NaN      NaN     NaN  \n"
     ]
    }
   ],
   "source": [
    "# display the first five rows of the DataFrame.\n",
    "\n",
    "import pandas as pd \n",
    "\n",
    "Countries = pd.read_csv(r\"D:\\Downloads\\Countries.csv\")\n",
    "print(Countries.head())"
   ]
  },
  {
   "cell_type": "code",
   "execution_count": 10,
   "id": "2940c17c",
   "metadata": {},
   "outputs": [
    {
     "name": "stdout",
     "output_type": "stream",
     "text": [
      "['Bangladesh ', 'Brazil ', 'China ', 'India ', 'Indonesia ', 'Japan ', 'Mexico ', 'Nigeria ', 'Pakistan ', 'Russia ', 'United States ']\n"
     ]
    }
   ],
   "source": [
    "# show only the countries with a population greater than 100 million\n",
    "\n",
    "LargeCountries = Countries[Countries['Population']>100000000]['Country'].tolist()\n",
    "print(LargeCountries)"
   ]
  },
  {
   "cell_type": "code",
   "execution_count": 15,
   "id": "651435bf",
   "metadata": {},
   "outputs": [
    {
     "name": "stdout",
     "output_type": "stream",
     "text": [
      "              Country                               Region  Population\n",
      "0        Afghanistan         ASIA (EX. NEAR EAST)             31056997\n",
      "1            Albania                        EASTERN EUROPE     3581655\n",
      "2            Algeria   NORTHERN AFRICA                        32930091\n",
      "3     American Samoa   OCEANIA                                   57794\n",
      "4            Andorra   WESTERN EUROPE                            71201\n",
      "5             Angola   SUB-SAHARAN AFRICA                     12127071\n",
      "6           Anguilla               LATIN AMER. & CARIB           13477\n",
      "7  Antigua & Barbuda               LATIN AMER. & CARIB           69108\n",
      "8          Argentina               LATIN AMER. & CARIB        39921833\n",
      "9            Armenia                  C.W. OF IND. STATES      2976372\n"
     ]
    }
   ],
   "source": [
    "#Filter the columns of the DataFrame to show only the name, region, and population columns\n",
    "\n",
    "FilteredCountries = Countries[['Country', 'Region', 'Population']]\n",
    "print(FilteredCountries.head(10))"
   ]
  },
  {
   "cell_type": "code",
   "execution_count": 18,
   "id": "2db0d270",
   "metadata": {},
   "outputs": [
    {
     "name": "stdout",
     "output_type": "stream",
     "text": [
      "                   Country                               Region  Population  \\\n",
      "42                  China         ASIA (EX. NEAR EAST)           1313973713   \n",
      "94                  India         ASIA (EX. NEAR EAST)           1095351995   \n",
      "214         United States   NORTHERN AMERICA                      298444215   \n",
      "95              Indonesia         ASIA (EX. NEAR EAST)            245452739   \n",
      "27                 Brazil               LATIN AMER. & CARIB       188078227   \n",
      "..                     ...                                  ...         ...   \n",
      "144                 Nauru   OCEANIA                                   13287   \n",
      "209                Tuvalu   OCEANIA                                   11810   \n",
      "140            Montserrat               LATIN AMER. & CARIB            9439   \n",
      "171          Saint Helena   SUB-SAHARAN AFRICA                         7502   \n",
      "174  St Pierre & Miquelon   NORTHERN AMERICA                           7026   \n",
      "\n",
      "     Area (sq. mi.) Pop. Density (per sq. mi.) Coastline (coast/area ratio)  \\\n",
      "42          9596960                      136,9                         0,15   \n",
      "94          3287590                      333,2                         0,21   \n",
      "214         9631420                       31,0                         0,21   \n",
      "95          1919440                      127,9                         2,85   \n",
      "27          8511965                       22,1                         0,09   \n",
      "..              ...                        ...                          ...   \n",
      "144              21                      632,7                       142,86   \n",
      "209              26                      454,2                        92,31   \n",
      "140             102                       92,5                        39,22   \n",
      "171             413                       18,2                        14,53   \n",
      "174             242                       29,0                        49,59   \n",
      "\n",
      "    Net migration Infant mortality (per 1000 births)  GDP ($ per capita)  \\\n",
      "42           -0,4                              24,18              5000.0   \n",
      "94          -0,07                              56,29              2900.0   \n",
      "214          3,41                                6,5             37800.0   \n",
      "95              0                               35,6              3200.0   \n",
      "27          -0,03                              29,61              7600.0   \n",
      "..            ...                                ...                 ...   \n",
      "144             0                               9,95              5000.0   \n",
      "209             0                              20,03              1100.0   \n",
      "140             0                               7,35              3400.0   \n",
      "171             0                                 19              2500.0   \n",
      "174         -4,86                               7,54              6900.0   \n",
      "\n",
      "    Literacy (%) Phones (per 1000) Arable (%) Crops (%) Other (%) Climate  \\\n",
      "42          90,9             266,7       15,4      1,25     83,35     1,5   \n",
      "94          59,5              45,4       54,4      2,74     42,86     2,5   \n",
      "214         97,0             898,0      19,13      0,22     80,65       3   \n",
      "95          87,9              52,0      11,32      7,23     81,45       2   \n",
      "27          86,4             225,3       6,96       0,9     92,15       2   \n",
      "..           ...               ...        ...       ...       ...     ...   \n",
      "144          NaN             143,0          0         0       100       2   \n",
      "209          NaN              59,3          0         0       100       2   \n",
      "140         97,0               NaN         20         0        80       2   \n",
      "171         97,0             293,3       12,9         0      87,1     NaN   \n",
      "174         99,0             683,2      13,04         0     86,96     NaN   \n",
      "\n",
      "    Birthrate Deathrate Agriculture Industry Service  \n",
      "42      13,25      6,97       0,125    0,473   0,403  \n",
      "94      22,01      8,18       0,186    0,276   0,538  \n",
      "214     14,14      8,26        0,01    0,204   0,787  \n",
      "95      20,34      6,25       0,134    0,458   0,408  \n",
      "27      16,56      6,17       0,084      0,4   0,516  \n",
      "..        ...       ...         ...      ...     ...  \n",
      "144     24,76       6,7         NaN      NaN     NaN  \n",
      "209     22,18      7,11       0,166    0,272   0,562  \n",
      "140     17,59       7,1         NaN      NaN     NaN  \n",
      "171     12,13      6,53         NaN      NaN     NaN  \n",
      "174     13,52      6,83         NaN      NaN     NaN  \n",
      "\n",
      "[230 rows x 20 columns]\n"
     ]
    }
   ],
   "source": [
    "#. Sort the country details DataFrame in descending order based on Population.\n",
    "SortedCountries = Countries.sort_values(by='Population', ascending=False)\n",
    "print(SortedCountries)"
   ]
  },
  {
   "cell_type": "code",
   "execution_count": 21,
   "id": "4cdd3177",
   "metadata": {},
   "outputs": [
    {
     "name": "stdout",
     "output_type": "stream",
     "text": [
      "             Country                               Region  Population  \\\n",
      "0       Afghanistan         ASIA (EX. NEAR EAST)             31056997   \n",
      "1           Albania                        EASTERN EUROPE     3581655   \n",
      "2           Algeria   NORTHERN AFRICA                        32930091   \n",
      "3    American Samoa   OCEANIA                                   57794   \n",
      "4           Andorra   WESTERN EUROPE                            71201   \n",
      "..               ...                                  ...         ...   \n",
      "225          Zambia   SUB-SAHARAN AFRICA                     11502010   \n",
      "226        Zimbabwe   SUB-SAHARAN AFRICA                     12236805   \n",
      "227           Yemen   NEAR EAST                              21456188   \n",
      "228          Zambia   SUB-SAHARAN AFRICA                     11502010   \n",
      "229        Zimbabwe   SUB-SAHARAN AFRICA                     12236805   \n",
      "\n",
      "     Area (sq. mi.) Population Density Coastline (coast/area ratio)  \\\n",
      "0            647500               48,0                         0,00   \n",
      "1             28748              124,6                         1,26   \n",
      "2           2381740               13,8                         0,04   \n",
      "3               199              290,4                        58,29   \n",
      "4               468              152,1                         0,00   \n",
      "..              ...                ...                          ...   \n",
      "225          752614               15,3                         0,00   \n",
      "226          390580               31,3                         0,00   \n",
      "227          527970               40,6                         0,36   \n",
      "228          752614               15,3                         0,00   \n",
      "229          390580               31,3                         0,00   \n",
      "\n",
      "    Net migration Infant mortality (per 1000 births)      GDP Literacy (%)  \\\n",
      "0           23,06                             163,07    700.0         36,0   \n",
      "1           -4,93                              21,52   4500.0         86,5   \n",
      "2           -0,39                                 31   6000.0         70,0   \n",
      "3          -20,71                               9,27   8000.0         97,0   \n",
      "4             6,6                               4,05  19000.0        100,0   \n",
      "..            ...                                ...      ...          ...   \n",
      "225             0                              88,29    800.0         80,6   \n",
      "226             0                              67,69   1900.0         90,7   \n",
      "227             0                               61,5    800.0         50,2   \n",
      "228             0                              88,29    800.0         80,6   \n",
      "229             0                              67,69   1900.0         90,7   \n",
      "\n",
      "    Phones (per 1000) Arable (%) Crops (%) Other (%) Climate Birthrate  \\\n",
      "0                 3,2      12,13      0,22     87,65       1      46,6   \n",
      "1                71,2      21,09      4,42     74,49       3     15,11   \n",
      "2                78,1       3,22      0,25     96,53       1     17,14   \n",
      "3               259,5         10        15        75       2     22,46   \n",
      "4               497,2       2,22         0     97,78       3      8,71   \n",
      "..                ...        ...       ...       ...     ...       ...   \n",
      "225               8,2       7,08      0,03      92,9       2        41   \n",
      "226              26,8       8,32      0,34     91,34       2     28,01   \n",
      "227              37,2       2,78      0,24     96,98       1     42,89   \n",
      "228               8,2       7,08      0,03      92,9       2        41   \n",
      "229              26,8       8,32      0,34     91,34       2     28,01   \n",
      "\n",
      "    Deathrate Agriculture Industry Service  \n",
      "0       20,34        0,38     0,24    0,38  \n",
      "1        5,22       0,232    0,188   0,579  \n",
      "2        4,61       0,101      0,6   0,298  \n",
      "3        3,27         NaN      NaN     NaN  \n",
      "4        6,25         NaN      NaN     NaN  \n",
      "..        ...         ...      ...     ...  \n",
      "225     19,93        0,22     0,29   0,489  \n",
      "226     21,84       0,179    0,243   0,579  \n",
      "227       8,3       0,135    0,472   0,393  \n",
      "228     19,93        0,22     0,29   0,489  \n",
      "229     21,84       0,179    0,243   0,579  \n",
      "\n",
      "[230 rows x 20 columns]\n"
     ]
    }
   ],
   "source": [
    "# Rename the \"Pop. Density (per sq. mi.)\" column to \"Population Density\" and the\"GDP ($ per capita)\" column to \"GDP\" in the DataFrame\n",
    "\n",
    "Countries.rename(columns={\n",
    "    'Pop. Density (per sq. mi.)': 'Population Density',\n",
    "    'GDP ($ per capita)': 'GDP'\n",
    "}, inplace=True)\n",
    "\n",
    "print(Countries)"
   ]
  },
  {
   "cell_type": "code",
   "execution_count": 22,
   "id": "b1358ec3",
   "metadata": {},
   "outputs": [
    {
     "name": "stdout",
     "output_type": "stream",
     "text": [
      "Region\n",
      "ASIA (EX. NEAR EAST)                   1313973713\n",
      "BALTICS                                   3585906\n",
      "C.W. OF IND. STATES                     142893540\n",
      "EASTERN EUROPE                           38536869\n",
      "LATIN AMER. & CARIB                     188078227\n",
      "NEAR EAST                                70413958\n",
      "NORTHERN AFRICA                          78887007\n",
      "NORTHERN AMERICA                        298444215\n",
      "OCEANIA                                  20264082\n",
      "SUB-SAHARAN AFRICA                      131859731\n",
      "WESTERN EUROPE                           82422299\n",
      "Name: Population, dtype: int64\n"
     ]
    }
   ],
   "source": [
    "# Group the DataFrame by the \"Region\" column and get the maximum population values of each region\n",
    "\n",
    "Region = Countries.groupby('Region')['Population'].max()\n",
    "\n",
    "print(Region)"
   ]
  },
  {
   "cell_type": "code",
   "execution_count": 24,
   "id": "10cf3049",
   "metadata": {},
   "outputs": [
    {
     "name": "stdout",
     "output_type": "stream",
     "text": [
      "Empty DataFrame\n",
      "Columns: [Country, Region, Population, Area (sq. mi.), Population Density, Coastline (coast/area ratio), Net migration, Infant mortality (per 1000 births), GDP, Literacy (%), Phones (per 1000), Arable (%), Crops (%), Other (%), Climate, Birthrate, Deathrate, Agriculture, Industry, Service, Importance, Altitude, Latitude, Longitude]\n",
      "Index: []\n",
      "\n",
      "[0 rows x 24 columns]\n"
     ]
    }
   ],
   "source": [
    "# Merge the \"countries of the world.csv\" file with the \"geo coordinates.csv\" file and load it into a DataFrame\n",
    "\n",
    "Coordinates = pd.read_csv(r\"D:\\Downloads\\Coordinates.csv\")\n",
    "\n",
    "merge = pd.merge(Countries, Coordinates, on='Country', how='inner')\n",
    "\n",
    "print(merge)"
   ]
  },
  {
   "cell_type": "code",
   "execution_count": 26,
   "id": "41cf8384",
   "metadata": {},
   "outputs": [
    {
     "name": "stdout",
     "output_type": "stream",
     "text": [
      "Country                                0\n",
      "Region                                 0\n",
      "Population                             0\n",
      "Area (sq. mi.)                         0\n",
      "Population Density                     0\n",
      "Coastline (coast/area ratio)           0\n",
      "Net migration                          3\n",
      "Infant mortality (per 1000 births)     3\n",
      "GDP                                    1\n",
      "Literacy (%)                          18\n",
      "Phones (per 1000)                      4\n",
      "Arable (%)                             2\n",
      "Crops (%)                              2\n",
      "Other (%)                              2\n",
      "Climate                               22\n",
      "Birthrate                              3\n",
      "Deathrate                              4\n",
      "Agriculture                           15\n",
      "Industry                              16\n",
      "Service                               15\n",
      "dtype: int64\n"
     ]
    }
   ],
   "source": [
    "#Finding Missing values\n",
    "\n",
    "missing_values = Countries.isnull().sum()\n",
    "\n",
    "print(missing_values)"
   ]
  },
  {
   "cell_type": "code",
   "execution_count": 27,
   "id": "2f911eee",
   "metadata": {},
   "outputs": [
    {
     "name": "stdout",
     "output_type": "stream",
     "text": [
      "Country                               0.000000\n",
      "Region                                0.000000\n",
      "Population                            0.000000\n",
      "Area (sq. mi.)                        0.000000\n",
      "Population Density                    0.000000\n",
      "Coastline (coast/area ratio)          0.000000\n",
      "Net migration                         1.304348\n",
      "Infant mortality (per 1000 births)    1.304348\n",
      "GDP                                   0.434783\n",
      "Literacy (%)                          7.826087\n",
      "Phones (per 1000)                     1.739130\n",
      "Arable (%)                            0.869565\n",
      "Crops (%)                             0.869565\n",
      "Other (%)                             0.869565\n",
      "Climate                               9.565217\n",
      "Birthrate                             1.304348\n",
      "Deathrate                             1.739130\n",
      "Agriculture                           6.521739\n",
      "Industry                              6.956522\n",
      "Service                               6.521739\n",
      "dtype: float64\n"
     ]
    }
   ],
   "source": [
    "# Percentage of the missing values \n",
    "\n",
    "PercentagMissing = missing_values/len(Countries) * 100\n",
    "print(PercentagMissing)"
   ]
  },
  {
   "cell_type": "code",
   "execution_count": 29,
   "id": "8408e946",
   "metadata": {},
   "outputs": [
    {
     "name": "stdout",
     "output_type": "stream",
     "text": [
      "          Country                               Region  Population  \\\n",
      "0    Afghanistan         ASIA (EX. NEAR EAST)             31056997   \n",
      "1        Albania                        EASTERN EUROPE     3581655   \n",
      "2        Algeria   NORTHERN AFRICA                        32930091   \n",
      "5         Angola   SUB-SAHARAN AFRICA                     12127071   \n",
      "6       Anguilla               LATIN AMER. & CARIB           13477   \n",
      "..            ...                                  ...         ...   \n",
      "225       Zambia   SUB-SAHARAN AFRICA                     11502010   \n",
      "226     Zimbabwe   SUB-SAHARAN AFRICA                     12236805   \n",
      "227        Yemen   NEAR EAST                              21456188   \n",
      "228       Zambia   SUB-SAHARAN AFRICA                     11502010   \n",
      "229     Zimbabwe   SUB-SAHARAN AFRICA                     12236805   \n",
      "\n",
      "     Area (sq. mi.) Population Density Coastline (coast/area ratio)  \\\n",
      "0            647500               48,0                         0,00   \n",
      "1             28748              124,6                         1,26   \n",
      "2           2381740               13,8                         0,04   \n",
      "5           1246700                9,7                         0,13   \n",
      "6               102              132,1                        59,80   \n",
      "..              ...                ...                          ...   \n",
      "225          752614               15,3                         0,00   \n",
      "226          390580               31,3                         0,00   \n",
      "227          527970               40,6                         0,36   \n",
      "228          752614               15,3                         0,00   \n",
      "229          390580               31,3                         0,00   \n",
      "\n",
      "    Net migration Infant mortality (per 1000 births)     GDP Literacy (%)  \\\n",
      "0           23,06                             163,07   700.0         36,0   \n",
      "1           -4,93                              21,52  4500.0         86,5   \n",
      "2           -0,39                                 31  6000.0         70,0   \n",
      "5               0                             191,19  1900.0         42,0   \n",
      "6           10,76                              21,03  8600.0         95,0   \n",
      "..            ...                                ...     ...          ...   \n",
      "225             0                              88,29   800.0         80,6   \n",
      "226             0                              67,69  1900.0         90,7   \n",
      "227             0                               61,5   800.0         50,2   \n",
      "228             0                              88,29   800.0         80,6   \n",
      "229             0                              67,69  1900.0         90,7   \n",
      "\n",
      "    Phones (per 1000) Arable (%) Crops (%) Other (%) Climate Birthrate  \\\n",
      "0                 3,2      12,13      0,22     87,65       1      46,6   \n",
      "1                71,2      21,09      4,42     74,49       3     15,11   \n",
      "2                78,1       3,22      0,25     96,53       1     17,14   \n",
      "5                 7,8       2,41      0,24     97,35     NaN     45,11   \n",
      "6               460,0          0         0       100       2     14,17   \n",
      "..                ...        ...       ...       ...     ...       ...   \n",
      "225               8,2       7,08      0,03      92,9       2        41   \n",
      "226              26,8       8,32      0,34     91,34       2     28,01   \n",
      "227              37,2       2,78      0,24     96,98       1     42,89   \n",
      "228               8,2       7,08      0,03      92,9       2        41   \n",
      "229              26,8       8,32      0,34     91,34       2     28,01   \n",
      "\n",
      "    Deathrate Agriculture Industry Service  \n",
      "0       20,34        0,38     0,24    0,38  \n",
      "1        5,22       0,232    0,188   0,579  \n",
      "2        4,61       0,101      0,6   0,298  \n",
      "5        24,2       0,096    0,658   0,246  \n",
      "6        5,34        0,04     0,18    0,78  \n",
      "..        ...         ...      ...     ...  \n",
      "225     19,93        0,22     0,29   0,489  \n",
      "226     21,84       0,179    0,243   0,579  \n",
      "227       8,3       0,135    0,472   0,393  \n",
      "228     19,93        0,22     0,29   0,489  \n",
      "229     21,84       0,179    0,243   0,579  \n",
      "\n",
      "[215 rows x 20 columns]\n"
     ]
    }
   ],
   "source": [
    "# Drop the rows from the DataFrame that have missing values in the \"Agriculture\" column?\n",
    "\n",
    "Drop = Countries.dropna(subset=['Agriculture'])\n",
    "print(Drop)"
   ]
  },
  {
   "cell_type": "code",
   "execution_count": 31,
   "id": "52a5b6bb",
   "metadata": {},
   "outputs": [
    {
     "name": "stdout",
     "output_type": "stream",
     "text": [
      "None\n"
     ]
    }
   ],
   "source": [
    "#\n",
    "\n",
    "\n",
    "# Calculate the mode of the 'Climate' column to get the most frequent value\n",
    "climate_mode = Countries['Climate'].mode()[0]\n",
    "\n",
    "Replace = Countries['Climate'].fillna(climate_mode, inplace=True)\n",
    "\n",
    "print(Replace)\n",
    "\n"
   ]
  },
  {
   "cell_type": "code",
   "execution_count": 36,
   "id": "2609d07c",
   "metadata": {},
   "outputs": [
    {
     "name": "stdout",
     "output_type": "stream",
     "text": [
      "Number of duplicate rows: 3\n"
     ]
    }
   ],
   "source": [
    "# Finding Duplicates\n",
    "\n",
    "\n",
    "duplicate_count = Countries.duplicated().sum()\n",
    "\n",
    "print(f\"Number of duplicate rows: {duplicate_count}\")"
   ]
  },
  {
   "cell_type": "code",
   "execution_count": 38,
   "id": "b05d1845",
   "metadata": {},
   "outputs": [
    {
     "name": "stdout",
     "output_type": "stream",
     "text": [
      "             Country                               Region  Population  \\\n",
      "0       Afghanistan         ASIA (EX. NEAR EAST)             31056997   \n",
      "1           Albania                        EASTERN EUROPE     3581655   \n",
      "2           Algeria   NORTHERN AFRICA                        32930091   \n",
      "3    American Samoa   OCEANIA                                   57794   \n",
      "4           Andorra   WESTERN EUROPE                            71201   \n",
      "..               ...                                  ...         ...   \n",
      "222       West Bank   NEAR EAST                               2460492   \n",
      "223  Western Sahara   NORTHERN AFRICA                          273008   \n",
      "224           Yemen   NEAR EAST                              21456188   \n",
      "225          Zambia   SUB-SAHARAN AFRICA                     11502010   \n",
      "226        Zimbabwe   SUB-SAHARAN AFRICA                     12236805   \n",
      "\n",
      "     Area (sq. mi.) Population Density Coastline (coast/area ratio)  \\\n",
      "0            647500               48,0                         0,00   \n",
      "1             28748              124,6                         1,26   \n",
      "2           2381740               13,8                         0,04   \n",
      "3               199              290,4                        58,29   \n",
      "4               468              152,1                         0,00   \n",
      "..              ...                ...                          ...   \n",
      "222            5860              419,9                         0,00   \n",
      "223          266000                1,0                         0,42   \n",
      "224          527970               40,6                         0,36   \n",
      "225          752614               15,3                         0,00   \n",
      "226          390580               31,3                         0,00   \n",
      "\n",
      "    Net migration Infant mortality (per 1000 births)      GDP Literacy (%)  \\\n",
      "0           23,06                             163,07    700.0         36,0   \n",
      "1           -4,93                              21,52   4500.0         86,5   \n",
      "2           -0,39                                 31   6000.0         70,0   \n",
      "3          -20,71                               9,27   8000.0         97,0   \n",
      "4             6,6                               4,05  19000.0        100,0   \n",
      "..            ...                                ...      ...          ...   \n",
      "222          2,98                              19,62    800.0          NaN   \n",
      "223           NaN                                NaN      NaN          NaN   \n",
      "224             0                               61,5    800.0         50,2   \n",
      "225             0                              88,29    800.0         80,6   \n",
      "226             0                              67,69   1900.0         90,7   \n",
      "\n",
      "    Phones (per 1000) Arable (%) Crops (%) Other (%) Climate Birthrate  \\\n",
      "0                 3,2      12,13      0,22     87,65       1      46,6   \n",
      "1                71,2      21,09      4,42     74,49       3     15,11   \n",
      "2                78,1       3,22      0,25     96,53       1     17,14   \n",
      "3               259,5         10        15        75       2     22,46   \n",
      "4               497,2       2,22         0     97,78       3      8,71   \n",
      "..                ...        ...       ...       ...     ...       ...   \n",
      "222             145,2       16,9     18,97     64,13       3     31,67   \n",
      "223               NaN       0,02         0     99,98       1       NaN   \n",
      "224              37,2       2,78      0,24     96,98       1     42,89   \n",
      "225               8,2       7,08      0,03      92,9       2        41   \n",
      "226              26,8       8,32      0,34     91,34       2     28,01   \n",
      "\n",
      "    Deathrate Agriculture Industry Service  \n",
      "0       20,34        0,38     0,24    0,38  \n",
      "1        5,22       0,232    0,188   0,579  \n",
      "2        4,61       0,101      0,6   0,298  \n",
      "3        3,27         NaN      NaN     NaN  \n",
      "4        6,25         NaN      NaN     NaN  \n",
      "..        ...         ...      ...     ...  \n",
      "222      3,92        0,09     0,28    0,63  \n",
      "223       NaN         NaN      NaN     0,4  \n",
      "224       8,3       0,135    0,472   0,393  \n",
      "225     19,93        0,22     0,29   0,489  \n",
      "226     21,84       0,179    0,243   0,579  \n",
      "\n",
      "[227 rows x 20 columns]\n"
     ]
    }
   ],
   "source": [
    "# Drop duplicates\n",
    "\n",
    "duplicates = Countries.drop_duplicates()\n",
    "\n",
    "print(duplicates)"
   ]
  },
  {
   "cell_type": "code",
   "execution_count": 40,
   "id": "c91962f0",
   "metadata": {},
   "outputs": [
    {
     "name": "stdout",
     "output_type": "stream",
     "text": [
      "['ASIA (EX. NEAR EAST)         ' 'EUROPE (EASTERN)'\n",
      " 'NORTHERN AFRICA                    '\n",
      " 'OCEANIA                            '\n",
      " 'WESTERN EUROPE                     '\n",
      " 'SUB-SAHARAN AFRICA                 ' 'LATIN AMER. & CARIB    '\n",
      " 'C.W. OF IND. STATES ' 'NEAR EAST                          '\n",
      " 'NORTHERN AMERICA                   '\n",
      " 'BALTICS                            ']\n"
     ]
    }
   ],
   "source": [
    "# Replace the value \"EASTERN EUROPE\" in the \"Region\" column with \"EUROPE(EASTERN)\"?\n",
    "\n",
    "ReplaceRegion = Countries['Region'].replace('EASTERN EUROPE', 'EUROPE (EASTERN)')\n",
    "\n",
    "print(ReplaceRegion.unique())\n",
    "\n"
   ]
  },
  {
   "cell_type": "code",
   "execution_count": 41,
   "id": "0b22ab4d",
   "metadata": {},
   "outputs": [
    {
     "name": "stdout",
     "output_type": "stream",
     "text": [
      "           Country  Population Population Category\n",
      "0     Afghanistan     31056997              Medium\n",
      "1         Albania      3581655                 Low\n",
      "2         Algeria     32930091              Medium\n",
      "3  American Samoa        57794                 Low\n",
      "4         Andorra        71201                 Low\n"
     ]
    }
   ],
   "source": [
    "#Use a lambda function to create a new column in the DataFrame called \n",
    "# ‘Population Category’, that categorizes countries based on the ’population’ as below.\n",
    "# ● High: population greater than 100 million\n",
    "# ● Medium: population between 10 million and 100 million\n",
    "# ● Low: population less than 10 million\n",
    "\n",
    "\n",
    "# Define the lambda function to categorize the population\n",
    "Countries['Population Category'] = Countries['Population'].apply(\n",
    "    lambda x: 'High' if x > 100_000_000 else ('Medium' if x >= 10_000_000 else 'Low')\n",
    ")\n",
    "\n",
    "# Display the updated DataFrame with the new column\n",
    "print(Countries[['Country', 'Population', 'Population Category']].head())"
   ]
  }
 ],
 "metadata": {
  "kernelspec": {
   "display_name": "Day1",
   "language": "python",
   "name": "python3"
  },
  "language_info": {
   "codemirror_mode": {
    "name": "ipython",
    "version": 3
   },
   "file_extension": ".py",
   "mimetype": "text/x-python",
   "name": "python",
   "nbconvert_exporter": "python",
   "pygments_lexer": "ipython3",
   "version": "3.12.7"
  }
 },
 "nbformat": 4,
 "nbformat_minor": 5
}
